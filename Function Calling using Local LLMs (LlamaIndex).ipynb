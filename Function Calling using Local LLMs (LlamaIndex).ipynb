{
 "cells": [
  {
   "cell_type": "markdown",
   "id": "cb3ff64c",
   "metadata": {},
   "source": [
    "# Function Calling using Local LLMs (LlamaIndex)\n",
    "\n",
    "### Table of Contents\n",
    "\n",
    "1. **Load LLMs**\n",
    "    * **Llama3 - 7B**\n",
    "    * **Mistral - 7B**\n",
    "2. **Define Functions / Tools**\n",
    "3. **Create Agents**\n",
    "    * **Llama3 Agent**\n",
    "    * **Mistral Agent**"
   ]
  },
  {
   "cell_type": "markdown",
   "id": "c11c4c42",
   "metadata": {},
   "source": [
    "## 1. Load LLMs"
   ]
  },
  {
   "cell_type": "code",
   "execution_count": 1,
   "id": "b3c57237",
   "metadata": {},
   "outputs": [
    {
     "data": {
      "text/plain": [
       "Ollama(callback_manager=<llama_index.core.callbacks.base.CallbackManager object at 0x7f91bb7379a0>, system_prompt=None, messages_to_prompt=<function messages_to_prompt at 0x7f91a9331480>, completion_to_prompt=<function default_completion_to_prompt at 0x7f91a93bdc60>, output_parser=None, pydantic_program_mode=<PydanticProgramMode.DEFAULT: 'default'>, query_wrapper_prompt=None, base_url='http://localhost:11434', model='llama3', temperature=0.0, context_window=3900, request_timeout=600.0, prompt_key='prompt', json_mode=False, additional_kwargs={})"
      ]
     },
     "execution_count": 1,
     "metadata": {},
     "output_type": "execute_result"
    }
   ],
   "source": [
    "from llama_index.llms.ollama import Ollama\n",
    "\n",
    "llama3 = Ollama(model=\"llama3\", base_url='http://localhost:11434', temperature=0.0, request_timeout=600)\n",
    "\n",
    "llama3"
   ]
  },
  {
   "cell_type": "code",
   "execution_count": 2,
   "id": "6005c7ad",
   "metadata": {},
   "outputs": [
    {
     "data": {
      "text/plain": [
       "Ollama(callback_manager=<llama_index.core.callbacks.base.CallbackManager object at 0x7f90bde9b190>, system_prompt=None, messages_to_prompt=<function messages_to_prompt at 0x7f91a9331480>, completion_to_prompt=<function default_completion_to_prompt at 0x7f91a93bdc60>, output_parser=None, pydantic_program_mode=<PydanticProgramMode.DEFAULT: 'default'>, query_wrapper_prompt=None, base_url='http://localhost:11434', model='mistral', temperature=0.0, context_window=3900, request_timeout=600.0, prompt_key='prompt', json_mode=False, additional_kwargs={})"
      ]
     },
     "execution_count": 2,
     "metadata": {},
     "output_type": "execute_result"
    }
   ],
   "source": [
    "from llama_index.llms.ollama import Ollama\n",
    "\n",
    "mistral = Ollama(model=\"mistral\", base_url='http://localhost:11434', temperature=0.0, request_timeout=600)\n",
    "\n",
    "mistral"
   ]
  },
  {
   "cell_type": "code",
   "execution_count": 3,
   "id": "fbb03ea6",
   "metadata": {},
   "outputs": [
    {
     "data": {
      "text/plain": [
       "(True, True)"
      ]
     },
     "execution_count": 3,
     "metadata": {},
     "output_type": "execute_result"
    }
   ],
   "source": [
    "mistral.metadata.is_chat_model, llama3.metadata.is_chat_model"
   ]
  },
  {
   "cell_type": "markdown",
   "id": "ef698d3c",
   "metadata": {},
   "source": [
    "## 2. Define Functions / Tools"
   ]
  },
  {
   "cell_type": "code",
   "execution_count": 4,
   "id": "4cadc6a6",
   "metadata": {},
   "outputs": [],
   "source": [
    "from llama_index.core.tools import FunctionTool\n",
    "\n",
    "def multiply(a: int, b: int) -> int:\n",
    "    \"\"\"Multiple two integers and returns the result integer\"\"\"\n",
    "    return a * b\n",
    "\n",
    "\n",
    "multiply_tool = FunctionTool.from_defaults(fn=multiply)\n",
    "\n",
    "def add(a: int, b: int) -> int:\n",
    "    \"\"\"Add two integers and returns the result integer\"\"\"\n",
    "    return a + b\n",
    "\n",
    "\n",
    "add_tool = FunctionTool.from_defaults(fn=add)"
   ]
  },
  {
   "cell_type": "markdown",
   "id": "02909c9b",
   "metadata": {},
   "source": [
    "## 3. Define Agent"
   ]
  },
  {
   "cell_type": "markdown",
   "id": "6fad4a5a",
   "metadata": {},
   "source": [
    "### 3.1 Llama3 Agent\n",
    "\n",
    "**NOTE** - Function calling agent worker is specifically designed for function calling but currently, it does not work with **Ollama**. It'll work with openai, mistral, anthropic wrappers, only. Hence, I have used **ReAct** agent for this tutorial. In future, if it adds support for ollama then we can use it as well."
   ]
  },
  {
   "cell_type": "code",
   "execution_count": 5,
   "id": "a40f8dac",
   "metadata": {},
   "outputs": [
    {
     "data": {
      "text/plain": [
       "<llama_index.core.agent.react.base.ReActAgent at 0x7f90bde9ae90>"
      ]
     },
     "execution_count": 5,
     "metadata": {},
     "output_type": "execute_result"
    }
   ],
   "source": [
    "from llama_index.core.agent import ReActAgent, FunctionCallingAgentWorker\n",
    "\n",
    "react_agent = ReActAgent.from_tools(tools=[multiply_tool, add_tool], llm=llama3, verbose=True)\n",
    "\n",
    "react_agent"
   ]
  },
  {
   "cell_type": "code",
   "execution_count": 6,
   "id": "e651346e",
   "metadata": {},
   "outputs": [
    {
     "name": "stdout",
     "output_type": "stream",
     "text": [
      "\u001b[1;3;38;5;200mThought: The current language of the user is English. I need to use a tool to help me answer the question.\n",
      "Action: add\n",
      "Action Input: {'a': 121, 'b': 2}\n",
      "\u001b[0m\u001b[1;3;34mObservation: 123\n",
      "\u001b[0m\u001b[1;3;38;5;200mThought: Now that we have the result of the addition (123), we can multiply it by 5 using another tool.\n",
      "Action: multiply\n",
      "Action Input: {'a': 123, 'b': 5}\n",
      "\u001b[0m\u001b[1;3;34mObservation: 615\n",
      "\u001b[0m\u001b[1;3;38;5;200mThought: I can answer without using any more tools. I'll use the user's language to answer\n",
      "Answer: The result is 615.\n",
      "\u001b[0mThe result is 615.\n"
     ]
    }
   ],
   "source": [
    "response = react_agent.chat(\"What is (121 + 2) * 5?\")\n",
    "\n",
    "print(str(response))"
   ]
  },
  {
   "cell_type": "code",
   "execution_count": 7,
   "id": "bc9de1ab",
   "metadata": {},
   "outputs": [
    {
     "data": {
      "text/plain": [
       "[ToolOutput(content='123', tool_name='add', raw_input={'args': (), 'kwargs': {'a': 121, 'b': 2}}, raw_output=123, is_error=False),\n",
       " ToolOutput(content='615', tool_name='multiply', raw_input={'args': (), 'kwargs': {'a': 123, 'b': 5}}, raw_output=615, is_error=False)]"
      ]
     },
     "execution_count": 7,
     "metadata": {},
     "output_type": "execute_result"
    }
   ],
   "source": [
    "response.sources"
   ]
  },
  {
   "cell_type": "code",
   "execution_count": 8,
   "id": "69c0e74b",
   "metadata": {},
   "outputs": [
    {
     "name": "stdout",
     "output_type": "stream",
     "text": [
      "Tool : add - {'a': 121, 'b': 2} - 123\n",
      "Tool : multiply - {'a': 123, 'b': 5} - 615\n"
     ]
    }
   ],
   "source": [
    "for tool_output in response.sources:\n",
    "    print(f\"Tool : {tool_output.tool_name} - {tool_output.raw_input['kwargs']} - {tool_output.raw_output}\")"
   ]
  },
  {
   "cell_type": "code",
   "execution_count": 9,
   "id": "aff742bd",
   "metadata": {},
   "outputs": [
    {
     "data": {
      "text/plain": [
       "[ChatMessage(role=<MessageRole.USER: 'user'>, content='What is (121 + 2) * 5?', additional_kwargs={}),\n",
       " ChatMessage(role=<MessageRole.ASSISTANT: 'assistant'>, content='The result is 615.', additional_kwargs={})]"
      ]
     },
     "execution_count": 9,
     "metadata": {},
     "output_type": "execute_result"
    }
   ],
   "source": [
    "react_agent.chat_history"
   ]
  },
  {
   "cell_type": "code",
   "execution_count": 10,
   "id": "c54c1a5c",
   "metadata": {},
   "outputs": [
    {
     "name": "stdout",
     "output_type": "stream",
     "text": [
      "ActionReasoningStep -> thought='The current language of the user is English. I need to use a tool to help me answer the question.' action='add' action_input={'a': 121, 'b': 2}\n",
      "\n",
      "ObservationReasoningStep -> observation='123' return_direct=False\n",
      "\n",
      "ActionReasoningStep -> thought='Now that we have the result of the addition (123), we can multiply it by 5 using another tool.' action='multiply' action_input={'a': 123, 'b': 5}\n",
      "\n",
      "ObservationReasoningStep -> observation='615' return_direct=False\n",
      "\n",
      "ResponseReasoningStep -> thought=\"I can answer without using any more tools. I'll use the user's language to answer\" response='The result is 615.' is_streaming=False\n",
      "\n"
     ]
    }
   ],
   "source": [
    "for resoning_step in react_agent.get_completed_tasks()[0].extra_state[\"current_reasoning\"]:\n",
    "    print(f\"{resoning_step.__class__.__name__} -> {resoning_step}\\n\")"
   ]
  },
  {
   "cell_type": "code",
   "execution_count": 11,
   "id": "67b54133",
   "metadata": {},
   "outputs": [
    {
     "name": "stdout",
     "output_type": "stream",
     "text": [
      "System Prompt of Agent : \n",
      "\n",
      " You are designed to help with a variety of tasks, from answering questions to providing summaries to other types of analyses.\n",
      "\n",
      "## Tools\n",
      "\n",
      "You have access to a wide variety of tools. You are responsible for using the tools in any sequence you deem appropriate to complete the task at hand.\n",
      "This may require breaking the task into subtasks and using different tools to complete each subtask.\n",
      "\n",
      "You have access to the following tools:\n",
      "{tool_desc}\n",
      "\n",
      "\n",
      "## Output Format\n",
      "\n",
      "Please answer in the same language as the question and use the following format:\n",
      "\n",
      "```\n",
      "Thought: The current language of the user is: (user's language). I need to use a tool to help me answer the question.\n",
      "Action: tool name (one of {tool_names}) if using a tool.\n",
      "Action Input: the input to the tool, in a JSON format representing the kwargs (e.g. {{\"input\": \"hello world\", \"num_beams\": 5}})\n",
      "```\n",
      "\n",
      "Please ALWAYS start with a Thought.\n",
      "\n",
      "Please use a valid JSON format for the Action Input. Do NOT do this {{'input': 'hello world', 'num_beams': 5}}.\n",
      "\n",
      "If this format is used, the user will respond in the following format:\n",
      "\n",
      "```\n",
      "Observation: tool response\n",
      "```\n",
      "\n",
      "You should keep repeating the above format till you have enough information to answer the question without using any more tools. At that point, you MUST respond in the one of the following two formats:\n",
      "\n",
      "```\n",
      "Thought: I can answer without using any more tools. I'll use the user's language to answer\n",
      "Answer: [your answer here (In the same language as the user's question)]\n",
      "```\n",
      "\n",
      "```\n",
      "Thought: I cannot answer the question with the provided tools.\n",
      "Answer: [your answer here (In the same language as the user's question)]\n",
      "```\n",
      "\n",
      "## Current Conversation\n",
      "\n",
      "Below is the current conversation consisting of interleaving human and assistant messages.\n",
      "\n"
     ]
    }
   ],
   "source": [
    "print(f\"System Prompt of Agent : \\n\\n {react_agent.get_prompts()['agent_worker:system_prompt'].template}\")"
   ]
  },
  {
   "cell_type": "code",
   "execution_count": 12,
   "id": "d224c389",
   "metadata": {},
   "outputs": [
    {
     "name": "stdout",
     "output_type": "stream",
     "text": [
      "\u001b[1;3;38;5;200mThought: The current language of the user is not specified. I need to use a tool to help me answer the question.\n",
      "Action: add\n",
      "Action Input: {'a': 121, 'b': 2}\n",
      "\u001b[0m\u001b[1;3;34mObservation: 123\n",
      "\u001b[0m\u001b[1;3;38;5;200mThought: Now that we have the result of adding 2 to 121, which is 123, I need to multiply it by 3.\n",
      "Action: multiply\n",
      "Action Input: {'a': 123, 'b': 3}\n",
      "\u001b[0m\u001b[1;3;34mObservation: 369\n",
      "\u001b[0m\u001b[1;3;38;5;200mThought: I can answer without using any more tools. I'll use the user's language to answer\n",
      "Answer: Three hundred sixty-nine\n",
      "\u001b[0mThree hundred sixty-nine\n"
     ]
    }
   ],
   "source": [
    "response = react_agent.query(\"Add 2 to 121 and then multiply result by 3\")\n",
    "\n",
    "print(str(response))"
   ]
  },
  {
   "cell_type": "code",
   "execution_count": 13,
   "id": "de48925b",
   "metadata": {},
   "outputs": [
    {
     "name": "stdout",
     "output_type": "stream",
     "text": [
      "\u001b[1;3;38;5;200mThought: The current language of the user is English. I need to use a tool to help me answer the question.\n",
      "Action: add\n",
      "Action Input: {'a': 121, 'b': 2}\n",
      "\u001b[0m\u001b[1;3;34mObservation: 123\n",
      "\u001b[0m\u001b[1;3;38;5;200mThought: Now that we have the result of adding two to one hundred twenty one, which is 123, I need to multiply this by seven.\n",
      "Action: multiply\n",
      "Action Input: {'a': 123, 'b': 7}\n",
      "\u001b[0m\u001b[1;3;34mObservation: 861\n",
      "\u001b[0m\u001b[1;3;38;5;200mThought: I can answer without using any more tools. I'll use the user's language to answer.\n",
      "Answer: Eight hundred sixty-one.\n",
      "\u001b[0mEight hundred sixty-one.\n"
     ]
    }
   ],
   "source": [
    "response = react_agent.query(\"Add two to one hundred twenty one and then multiply result by seven\")\n",
    "\n",
    "print(str(response))"
   ]
  },
  {
   "cell_type": "code",
   "execution_count": 14,
   "id": "11ae3281",
   "metadata": {
    "scrolled": true
   },
   "outputs": [
    {
     "data": {
      "text/plain": [
       "861"
      ]
     },
     "execution_count": 14,
     "metadata": {},
     "output_type": "execute_result"
    }
   ],
   "source": [
    "(2+121)*7"
   ]
  },
  {
   "cell_type": "code",
   "execution_count": 15,
   "id": "2603fafd",
   "metadata": {},
   "outputs": [
    {
     "name": "stdout",
     "output_type": "stream",
     "text": [
      "\u001b[1;3;38;5;200mThought: The current language of the user is English. I need to use a tool to help me answer the question.\n",
      "Action: add\n",
      "Action Input: {'a': 1675213, 'b': 3124562}\n",
      "\u001b[0m\u001b[1;3;34mObservation: 4799775\n",
      "\u001b[0m\u001b[1;3;38;5;200mThought: I can answer without using any more tools. I'll use the user's language to answer\n",
      "Answer: The result of adding 1,675,213 and 3,124,562 is 4,799,775.\n",
      "\u001b[0mThe result of adding 1,675,213 and 3,124,562 is 4,799,775.\n"
     ]
    }
   ],
   "source": [
    "response = react_agent.query(\"Add 1,675,213 to 3,124,562.\")\n",
    "\n",
    "print(str(response))"
   ]
  },
  {
   "cell_type": "code",
   "execution_count": 16,
   "id": "ad43b5b7",
   "metadata": {},
   "outputs": [
    {
     "data": {
      "text/plain": [
       "'4,799,775'"
      ]
     },
     "execution_count": 16,
     "metadata": {},
     "output_type": "execute_result"
    }
   ],
   "source": [
    "f\"{1675213 + 3124562:,}\""
   ]
  },
  {
   "cell_type": "markdown",
   "id": "2cf43de6",
   "metadata": {},
   "source": [
    "### 3.2 Mistral Agent"
   ]
  },
  {
   "cell_type": "code",
   "execution_count": 17,
   "id": "f57f7ba1",
   "metadata": {},
   "outputs": [
    {
     "data": {
      "text/plain": [
       "<llama_index.core.agent.react.base.ReActAgent at 0x7f90bd9aaef0>"
      ]
     },
     "execution_count": 17,
     "metadata": {},
     "output_type": "execute_result"
    }
   ],
   "source": [
    "from llama_index.core.agent import ReActAgent\n",
    "\n",
    "react_agent2 = ReActAgent.from_tools(tools=[multiply_tool, add_tool], llm=mistral, verbose=True)\n",
    "\n",
    "react_agent2"
   ]
  },
  {
   "cell_type": "code",
   "execution_count": 18,
   "id": "ed5ba10d",
   "metadata": {},
   "outputs": [
    {
     "name": "stdout",
     "output_type": "stream",
     "text": [
      "\u001b[1;3;38;5;200mThought: The current language of the user is: English. I need to use a tool to help me answer the question.\n",
      "Action: add\n",
      "Action Input: {'a': 121, 'b': 2}\n",
      "\u001b[0m\u001b[1;3;34mObservation: 123\n",
      "\u001b[0m\u001b[1;3;38;5;200mThought: Now that I have the sum, I can use another tool to multiply the result by 5.\n",
      "Action: multiply\n",
      "Action Input: {'a': 123, 'b': 5}\n",
      "\u001b[0m\u001b[1;3;34mObservation: 615\n",
      "\u001b[0m\u001b[1;3;38;5;200mThought: I can answer without using any more tools. I'll use English to answer.\n",
      "Answer: The result is 615.\n",
      "\u001b[0mThe result is 615.\n"
     ]
    }
   ],
   "source": [
    "response = react_agent2.chat(\"What is (121 + 2) * 5?\")\n",
    "\n",
    "print(str(response))"
   ]
  },
  {
   "cell_type": "code",
   "execution_count": 19,
   "id": "2e95d233",
   "metadata": {
    "scrolled": true
   },
   "outputs": [
    {
     "name": "stdout",
     "output_type": "stream",
     "text": [
      "Tool : add - {'a': 121, 'b': 2} - 123\n",
      "Tool : multiply - {'a': 123, 'b': 5} - 615\n"
     ]
    }
   ],
   "source": [
    "for tool_output in response.sources:\n",
    "    print(f\"Tool : {tool_output.tool_name} - {tool_output.raw_input['kwargs']} - {tool_output.raw_output}\")"
   ]
  },
  {
   "cell_type": "code",
   "execution_count": 20,
   "id": "77c18790",
   "metadata": {},
   "outputs": [
    {
     "name": "stdout",
     "output_type": "stream",
     "text": [
      "\u001b[1;3;38;5;200mThought: The current language of the user is: English. I need to use tools to help me answer the question.\n",
      "Action: add\n",
      "Action Input: {'a': 121, 'b': 2}\n",
      "\u001b[0m\u001b[1;3;34mObservation: 123\n",
      "\u001b[0m\u001b[1;3;38;5;200mThought: Now that I have the sum, I need to multiply it by 3.\n",
      "Action: multiply\n",
      "Action Input: {'a': 123, 'b': 3}\n",
      "\u001b[0m\u001b[1;3;34mObservation: 369\n",
      "\u001b[0m\u001b[1;3;38;5;200mThought: I can answer without using any more tools. I'll use English to answer.\n",
      "Answer: The result of adding 2 to 121 and then multiplying the result by 3 is 369.\n",
      "\u001b[0mThe result of adding 2 to 121 and then multiplying the result by 3 is 369.\n"
     ]
    }
   ],
   "source": [
    "response = react_agent2.query(\"Add 2 to 121 and then multiply result by 3\")\n",
    "\n",
    "print(str(response))"
   ]
  },
  {
   "cell_type": "code",
   "execution_count": 21,
   "id": "197341de",
   "metadata": {},
   "outputs": [
    {
     "name": "stdout",
     "output_type": "stream",
     "text": [
      "\u001b[1;3;38;5;200mThought: The current language of the user is: English. I need to use a tool to help me answer the question.\n",
      "Action: add\n",
      "Action Input: {'a': 1, 'b': 121}\n",
      "\u001b[0m\u001b[1;3;34mObservation: 122\n",
      "\u001b[0m\u001b[1;3;38;5;200mThought: Now that I have the sum, I need to use another tool to multiply it by seven.\n",
      "Action: multiply\n",
      "Action Input: {'a': 122, 'b': 7}\n",
      "\u001b[0m\u001b[1;3;34mObservation: 854\n",
      "\u001b[0m\u001b[1;3;38;5;200mThought: I can answer without using any more tools. I'll use the user's language to answer\n",
      "Answer: The result of adding two to one hundred twenty one and then multiplying it by seven is eight hundred fifty four.\n",
      "\u001b[0mThe result of adding two to one hundred twenty one and then multiplying it by seven is eight hundred fifty four.\n"
     ]
    }
   ],
   "source": [
    "response = react_agent2.query(\"Add two to one hundred twenty one and then multiply result by seven\")\n",
    "\n",
    "print(str(response))"
   ]
  },
  {
   "cell_type": "code",
   "execution_count": 22,
   "id": "10a5a035",
   "metadata": {},
   "outputs": [
    {
     "data": {
      "text/plain": [
       "861"
      ]
     },
     "execution_count": 22,
     "metadata": {},
     "output_type": "execute_result"
    }
   ],
   "source": [
    "(2+121)*7"
   ]
  },
  {
   "cell_type": "code",
   "execution_count": 25,
   "id": "08b1324f",
   "metadata": {},
   "outputs": [
    {
     "name": "stdout",
     "output_type": "stream",
     "text": [
      "\u001b[1;3;38;5;200mThought: The current language of the user is: English. I need to use a tool to help me answer the question.\n",
      "Action: add\n",
      "Action Input: {'a': 2, 'b': 121}\n",
      "\u001b[0m\u001b[1;3;34mObservation: 123\n",
      "\u001b[0m\u001b[1;3;38;5;200mThought: Now that I have the sum, I need to use another tool to multiply the result by seven.\n",
      "Action: multiply\n",
      "Action Input: {'a': 123, 'b': 7}\n",
      "\u001b[0m\u001b[1;3;34mObservation: 861\n",
      "\u001b[0m\u001b[1;3;38;5;200mThought: I can answer without using any more tools. I'll use English to answer.\n",
      "Answer: The sum of two and one hundred twenty-one, multiplied by seven is eight hundred sixty-one.\n",
      "\u001b[0mThe sum of two and one hundred twenty-one, multiplied by seven is eight hundred sixty-one.\n"
     ]
    }
   ],
   "source": [
    "response = react_agent2.query(\"Add two to hundred twenty one and then multiply result by seven\")\n",
    "\n",
    "print(str(response))"
   ]
  },
  {
   "cell_type": "code",
   "execution_count": 23,
   "id": "4c83a0ea",
   "metadata": {},
   "outputs": [
    {
     "name": "stdout",
     "output_type": "stream",
     "text": [
      "\u001b[1;3;38;5;200mThought: The current language of the user is English. I need to use a tool to help me answer the question.\n",
      "Action: add\n",
      "Action Input: {'a': 1675213, 'b': 3124562}\n",
      "\u001b[0m\u001b[1;3;34mObservation: 4799775\n",
      "\u001b[0m\u001b[1;3;38;5;200mThought: I can answer without using any more tools. I'll use the user's language to answer\n",
      "Answer: The result of adding 1,675,213 and 3,124,562 is 4,799,775.\n",
      "\u001b[0mThe result of adding 1,675,213 and 3,124,562 is 4,799,775.\n"
     ]
    }
   ],
   "source": [
    "response = react_agent.query(\"Add 1,675,213 to 3,124,562.\")\n",
    "\n",
    "print(str(response))"
   ]
  },
  {
   "cell_type": "code",
   "execution_count": 24,
   "id": "a82201b5",
   "metadata": {},
   "outputs": [
    {
     "data": {
      "text/plain": [
       "'4,799,775'"
      ]
     },
     "execution_count": 24,
     "metadata": {},
     "output_type": "execute_result"
    }
   ],
   "source": [
    "f\"{1675213 + 3124562:,}\""
   ]
  },
  {
   "cell_type": "markdown",
   "id": "99c7aa36",
   "metadata": {},
   "source": [
    "## Summary\n",
    "\n",
    "In this video, I explained how to use **Local LLMs (Llama-3 7B & Mistral 7B)** through **Ollama** for function calling. We used **LlamaIndex** framework for our code."
   ]
  }
 ],
 "metadata": {
  "kernelspec": {
   "display_name": "Python 3 (ipykernel)",
   "language": "python",
   "name": "python3"
  },
  "language_info": {
   "codemirror_mode": {
    "name": "ipython",
    "version": 3
   },
   "file_extension": ".py",
   "mimetype": "text/x-python",
   "name": "python",
   "nbconvert_exporter": "python",
   "pygments_lexer": "ipython3",
   "version": "3.10.9"
  }
 },
 "nbformat": 4,
 "nbformat_minor": 5
}
